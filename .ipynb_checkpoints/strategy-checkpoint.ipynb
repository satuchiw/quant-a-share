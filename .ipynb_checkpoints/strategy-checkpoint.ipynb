{
 "cells": [
  {
   "cell_type": "code",
   "execution_count": 10,
   "id": "77514edd-7da5-4a7f-9eee-42ac9ce4a11e",
   "metadata": {},
   "outputs": [],
   "source": [
    "# strategy.ipynb\n",
    "import backtrader as bt\n",
    "\n",
    "class Strategy_MA(bt.Strategy):\n",
    "    params = (\n",
    "        ('ma5_period', 5),\n",
    "        ('ma20_period', 20),\n",
    "    )\n",
    "    def __init__(self):\n",
    "        self.order = None\n",
    "        self.buyprice = None\n",
    "        self.buycomm = None\n",
    "        self.end_date = self.p.end_date   # access as self.end_date\n",
    "        self.ma5 = bt.indicators.SimpleMovingAverage(\n",
    "            self.data.close, period=self.params.ma5_period)\n",
    "        self.ma20 = bt.indicators.SimpleMovingAverage(\n",
    "            self.data.close, period=self.params.ma20_period)\n",
    "\n",
    "    def log(self, txt, dt=None):\n",
    "        dt = dt or self.datas[0].datetime.date(0)\n",
    "        print(f'date:{dt.isoformat()}, {txt}')\n",
    "\n",
    "    def notify_order(self, order):\n",
    "        if order.status in [order.Submitted, order.Accepted]:\n",
    "            return\n",
    "        if order.status in [order.Completed]:\n",
    "            if order.isbuy():\n",
    "                self.log(f'BUY EXECUTED, {order.executed.price:.2f}')\n",
    "            elif order.issell():\n",
    "                self.log(f'SELL EXECUTED, {order.executed.price:.2f}')\n",
    "        elif order.status in [order.Canceled, order.Margin, order.Rejected]:\n",
    "            self.log('Order Canceled/Margin/Rejected')\n",
    "        self.order = None\n",
    "\n",
    "    def next(self):\n",
    "        if self.order:\n",
    "            return\n",
    "\n",
    "        if not self.position:\n",
    "            if self.data.close[0] > self.ma5[0] and self.ma5[0] > self.ma20[0]:\n",
    "                self.log(f'BUY CREATE {self.data.close[0]:.2f}')\n",
    "                self.order = self.buy()\n",
    "        else:\n",
    "            if self.data.close[0] < self.ma5[0]:\n",
    "                self.log(f'SELL CREATE {self.data.close[0]:.2f}')\n",
    "                self.order = self.sell()\n"
   ]
  },
  {
   "cell_type": "code",
   "execution_count": 11,
   "id": "d62fd084-1ece-4c43-ac04-f65c8c82689f",
   "metadata": {},
   "outputs": [
    {
     "name": "stderr",
     "output_type": "stream",
     "text": [
      "[NbConvertApp] Converting notebook strategy.ipynb to script\n",
      "[NbConvertApp] Writing 1741 bytes to strategy.py\n"
     ]
    }
   ],
   "source": [
    "\n"
   ]
  },
  {
   "cell_type": "code",
   "execution_count": null,
   "id": "760e3284-2c17-45f7-9c66-47b9d7203167",
   "metadata": {},
   "outputs": [],
   "source": []
  }
 ],
 "metadata": {
  "kernelspec": {
   "display_name": "Python [conda env:base] *",
   "language": "python",
   "name": "conda-base-py"
  },
  "language_info": {
   "codemirror_mode": {
    "name": "ipython",
    "version": 3
   },
   "file_extension": ".py",
   "mimetype": "text/x-python",
   "name": "python",
   "nbconvert_exporter": "python",
   "pygments_lexer": "ipython3",
   "version": "3.12.7"
  }
 },
 "nbformat": 4,
 "nbformat_minor": 5
}
